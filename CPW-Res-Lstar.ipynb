{
 "cells": [
  {
   "cell_type": "code",
   "execution_count": 1,
   "id": "e5f90664",
   "metadata": {},
   "outputs": [],
   "source": [
    "from qiskit_metal import designs, draw\n",
    "from qiskit_metal import MetalGUI, Dict, open_docs"
   ]
  },
  {
   "cell_type": "code",
   "execution_count": 2,
   "id": "e93d713a",
   "metadata": {},
   "outputs": [],
   "source": [
    "design = designs.DesignPlanar()"
   ]
  },
  {
   "cell_type": "code",
   "execution_count": 3,
   "id": "e976983f",
   "metadata": {},
   "outputs": [],
   "source": [
    "design.overwrite_enabled = True\n",
    "design.chips.main\n",
    "design.chips.main.size.size_x = '4cm'\n",
    "design.chips.main.size.size_y = '5cm'\n",
    "gui = MetalGUI(design)"
   ]
  },
  {
   "cell_type": "code",
   "execution_count": 4,
   "id": "ff08dc64",
   "metadata": {},
   "outputs": [],
   "source": [
    "design.variables['cpw_width'] = '.1mm'\n",
    "design.variables['cpw_gap'] = '.1mm'"
   ]
  },
  {
   "cell_type": "markdown",
   "id": "092af4b2",
   "metadata": {},
   "source": [
    "## LAYOUT\n",
    "---"
   ]
  },
  {
   "cell_type": "code",
   "execution_count": 5,
   "id": "6576e974",
   "metadata": {},
   "outputs": [],
   "source": [
    "from qiskit_metal.qlibrary.tlines import meandered, straight_path, framed_path\n",
    "from qiskit_metal.qlibrary.terminations.short_to_ground import ShortToGround\n",
    "from qiskit_metal.qlibrary.terminations.open_to_ground import OpenToGround\n",
    "from qiskit_metal.qlibrary.terminations.launchpad_wb_coupled import LaunchpadWirebondCoupled\n",
    "from qiskit_metal.qlibrary.couplers.coupled_line_tee import CoupledLineTee\n",
    "from qiskit_metal.qlibrary.couplers.line_tee import LineTee"
   ]
  },
  {
   "cell_type": "code",
   "execution_count": 6,
   "id": "87baf879",
   "metadata": {},
   "outputs": [],
   "source": [
    "\"\"\"\n",
    "Transmission Line In/Out Ports \n",
    "\"\"\"\n",
    "port_1_options = Dict(pos_x='0mm',pos_y='0mm',orientation='0')\n",
    "port_1_termination = OpenToGround(design,'Port1_Termination',options=port_1_options)\n",
    "\n",
    "port_2_options = Dict(pos_x='5cm',pos_y='0mm',orientation='180')\n",
    "port_2_termination = OpenToGround(design,'Port2_Termination',options=port_2_options)"
   ]
  },
  {
   "cell_type": "code",
   "execution_count": 7,
   "id": "0a3f98cb",
   "metadata": {},
   "outputs": [],
   "source": [
    "\"\"\"\n",
    "Transmission Line Tee\n",
    "\"\"\"\n",
    "tee1_options = Dict(pos_x=\"2.5cm\",pos_y=\"0cm\",rotation='0',coupling_length='2.5mm',down_length='1mm',\n",
    "                    fillet='.04cm',prime_gap='100um',\n",
    "                    prime_width=design.variables['cpw_width'], second_width=design.variables['cpw_width'])\n",
    "tee1 = CoupledLineTee(design, \"CouplingTee\",options=tee1_options)"
   ]
  },
  {
   "cell_type": "code",
   "execution_count": 8,
   "id": "ba1d75a3",
   "metadata": {},
   "outputs": [],
   "source": [
    "\"\"\"\n",
    "Transmission Line Thru\n",
    "\"\"\"\n",
    "straighta_tline_options = Dict( pin_inputs = Dict(  start_pin=Dict(component='Port1_Termination', pin='open'),\n",
    "                                                    end_pin=Dict(component='CouplingTee', pin='prime_start')))\n",
    "straighta_tline = straight_path.RouteStraight(design,'straighta_tline', options=straighta_tline_options)\n",
    "\n",
    "straightb_tline_options = Dict( pin_inputs = Dict(  start_pin=Dict(component='CouplingTee', pin='prime_end'),\n",
    "                                                    end_pin=Dict(component='Port2_Termination', pin='open')))\n",
    "straightb_tline = straight_path.RouteStraight(design,'straightb_tline', options=straightb_tline_options)"
   ]
  },
  {
   "cell_type": "code",
   "execution_count": 9,
   "id": "02282ebb",
   "metadata": {},
   "outputs": [],
   "source": [
    "\"\"\"\n",
    "Resonator Grounding\n",
    "\"\"\"\n",
    "res_short_options = Dict(pos_x='2.62cm',pos_y='-.75cm',orientation='-90')\n",
    "res_short = ShortToGround(design,'Res_short',options=res_short_options)\n",
    "\"\"\"\n",
    "Resonator A\n",
    "\"\"\"\n",
    "meanderA_options = Dict(\n",
    "    pin_inputs = Dict(  start_pin=Dict(component='CouplingTee', pin='second_end'),\n",
    "                        end_pin=Dict(component='Res_short', pin='short')), \n",
    "                        lead = Dict(start_straight='800um',end_straight='10um'),\n",
    "                        total_length = '2.1cm', fillet = '50um', width=design.variables['cpw_width'])\n",
    "MeanderA = meandered.RouteMeander(design,'meanderA', options=meanderA_options)"
   ]
  },
  {
   "cell_type": "code",
   "execution_count": null,
   "id": "429ba933",
   "metadata": {},
   "outputs": [],
   "source": [
    "\"\"\"\n",
    "DC bias Tee\n",
    "\"\"\"\n",
    "dc_tee_options = Dict(  pos_x='2.625cm', pos_y='-1.mm',mirror=False,t_length='200um',\n",
    "                        prime_width=design.variables['cpw_width'], orientation='-90', \n",
    "                        second_width=design.variables['cpw_width'] )\n",
    "dc_tee=LineTee(design, \"DcTee\",options=dc_tee_options)\n",
    "\"\"\"\n",
    "DC Bias Pad\n",
    "\"\"\"\n",
    "port_3_options = Dict(pos_x='0mm',pos_y='-1cm',orientation='0') # control\n",
    "port_3_termination = LaunchpadWirebondCoupled(design,'Port3_Termination',options=port_3_options)\n",
    "\"\"\"\n",
    "DC Bias Line\n",
    "\"\"\"\n",
    "control_line_options = Dict( pin_inputs=Dict(   start_pin=Dict(component='DcTee', pin='second_end'),\n",
    "                                                end_pin=Dict(component='Port3_Termination', pin='tie')),\n",
    "                                                total_length = '1mm', fillet = '99.00um',\n",
    "                                                width=design.variables['cpw_width'],)\n",
    "ControlLine=framed_path.RouteFramed(design,'controlline',options=control_line_options)"
   ]
  },
  {
   "cell_type": "code",
   "execution_count": 10,
   "id": "e7ca1604",
   "metadata": {},
   "outputs": [],
   "source": [
    "gui.rebuild()\n",
    "gui.zoom_on_components([tee1.name, #resonatorA.name,\n",
    "                        port_1_termination.name, port_2_termination.name])"
   ]
  },
  {
   "cell_type": "code",
   "execution_count": null,
   "id": "c807928b",
   "metadata": {},
   "outputs": [],
   "source": [
    "gui.figure.savefig('tline.png')\n",
    "from IPython.display import Image, display\n",
    "_disp_ops = dict(width=500)\n",
    "display(Image('tline.png', **_disp_ops))"
   ]
  },
  {
   "cell_type": "markdown",
   "id": "998bcd19",
   "metadata": {},
   "source": [
    "# Analysis"
   ]
  },
  {
   "cell_type": "code",
   "execution_count": null,
   "id": "8d80753b",
   "metadata": {},
   "outputs": [],
   "source": [
    "from qiskit_metal.analyses.simulation import ScatteringImpedanceSim\n",
    "em1 = ScatteringImpedanceSim(design, \"hfss\")"
   ]
  },
  {
   "cell_type": "code",
   "execution_count": null,
   "id": "1b4f41e0",
   "metadata": {},
   "outputs": [],
   "source": []
  },
  {
   "cell_type": "code",
   "execution_count": null,
   "id": "92b2bdc7",
   "metadata": {},
   "outputs": [],
   "source": []
  }
 ],
 "metadata": {
  "kernelspec": {
   "display_name": "metal",
   "language": "python",
   "name": "metal"
  },
  "language_info": {
   "codemirror_mode": {
    "name": "ipython",
    "version": 3
   },
   "file_extension": ".py",
   "mimetype": "text/x-python",
   "name": "python",
   "nbconvert_exporter": "python",
   "pygments_lexer": "ipython3",
   "version": "3.8.10"
  }
 },
 "nbformat": 4,
 "nbformat_minor": 5
}
