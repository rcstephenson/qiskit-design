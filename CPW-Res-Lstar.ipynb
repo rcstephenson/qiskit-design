{
 "cells": [
  {
   "cell_type": "code",
   "execution_count": 1,
   "id": "e5f90664",
   "metadata": {},
   "outputs": [],
   "source": [
    "from qiskit_metal import designs, draw\n",
    "from qiskit_metal import MetalGUI, Dict, open_docs\n",
    "import pyEPR as epr"
   ]
  },
  {
   "cell_type": "code",
   "execution_count": 2,
   "id": "e93d713a",
   "metadata": {},
   "outputs": [],
   "source": [
    "design = designs.DesignPlanar()"
   ]
  },
  {
   "cell_type": "code",
   "execution_count": 3,
   "id": "e976983f",
   "metadata": {},
   "outputs": [],
   "source": [
    "design.overwrite_enabled = True\n",
    "design.chips.main\n",
    "design.chips.main.size.size_x = '2cm'\n",
    "design.chips.main.size.size_y = '15mm'\n",
    "gui = MetalGUI(design)"
   ]
  },
  {
   "cell_type": "code",
   "execution_count": 4,
   "id": "ff08dc64",
   "metadata": {},
   "outputs": [],
   "source": [
    "design.variables['cpw_width'] = '.1mm'\n",
    "design.variables['cpw_gap'] = '.1mm'"
   ]
  },
  {
   "cell_type": "markdown",
   "id": "092af4b2",
   "metadata": {},
   "source": [
    "## LAYOUT\n",
    "---"
   ]
  },
  {
   "cell_type": "code",
   "execution_count": 5,
   "id": "6576e974",
   "metadata": {},
   "outputs": [],
   "source": [
    "from qiskit_metal.qlibrary.tlines import meandered, straight_path, framed_path\n",
    "from qiskit_metal.qlibrary.terminations.short_to_ground import ShortToGround\n",
    "from qiskit_metal.qlibrary.terminations.open_to_ground import OpenToGround\n",
    "from qiskit_metal.qlibrary.terminations.launchpad_wb_coupled import LaunchpadWirebondCoupled\n",
    "from qiskit_metal.qlibrary.couplers.coupled_line_tee import CoupledLineTee\n",
    "from qiskit_metal.qlibrary.couplers.line_tee import LineTee"
   ]
  },
  {
   "cell_type": "code",
   "execution_count": 6,
   "id": "9ce65e0c",
   "metadata": {},
   "outputs": [],
   "source": [
    "thru=False # only build transmission line\n",
    "bias=False # build DC bias"
   ]
  },
  {
   "cell_type": "code",
   "execution_count": 7,
   "id": "87baf879",
   "metadata": {},
   "outputs": [],
   "source": [
    "\"\"\"\n",
    "Transmission Line In/Out Ports \n",
    "\"\"\"\n",
    "port_1_options = Dict(pos_x='-1cm',pos_y='0.0cm',width=design.variables['cpw_width'],orientation='180')\n",
    "port_1_termination = OpenToGround(design,'Port1_Termination',options=port_1_options)\n",
    "\n",
    "port_2_options = Dict(pos_x='1cm',pos_y='0.0cm',width=design.variables['cpw_width'],orientation='0')\n",
    "port_2_termination = OpenToGround(design,'Port2_Termination',options=port_2_options)"
   ]
  },
  {
   "cell_type": "code",
   "execution_count": 8,
   "id": "0a3f98cb",
   "metadata": {},
   "outputs": [],
   "source": [
    "if not thru:\n",
    "    \"\"\"\n",
    "    Transmission Line Tee\n",
    "    \"\"\"\n",
    "    tee1_options = Dict( pos_x=\"0cm\",pos_y=\"0.0cm\",rotation='0',coupling_length='2.5mm',\n",
    "                         down_length='.5mm',fillet='.04cm',coupling_space='150um',\n",
    "                         prime_width=design.variables['cpw_width'], second_width=design.variables['cpw_width'],\n",
    "                         prime_gap=design.variables['cpw_gap'], \n",
    "                         second_gap=design.variables['cpw_gap'] \n",
    "                         )\n",
    "    tee1 = CoupledLineTee(design, \"CouplingTee\",options=tee1_options)"
   ]
  },
  {
   "cell_type": "code",
   "execution_count": 9,
   "id": "ea05af28",
   "metadata": {},
   "outputs": [
    {
     "data": {
      "text/plain": [
       "{'prime_width': '10um',\n",
       " 'prime_gap': '6um',\n",
       " 'second_width': '10um',\n",
       " 'second_gap': '6um',\n",
       " 'coupling_space': '3um',\n",
       " 'coupling_length': '100um',\n",
       " 'down_length': '100um',\n",
       " 'fillet': '25um',\n",
       " 'pos_x': '0um',\n",
       " 'pos_y': '0um',\n",
       " 'rotation': '0',\n",
       " 'mirror': False,\n",
       " 'open_termination': True,\n",
       " 'chip': 'main',\n",
       " 'layer': '1',\n",
       " 'hfss_wire_bonds': False,\n",
       " 'q3d_wire_bonds': False}"
      ]
     },
     "execution_count": 9,
     "metadata": {},
     "output_type": "execute_result"
    }
   ],
   "source": [
    "CoupledLineTee.get_template_options(design)"
   ]
  },
  {
   "cell_type": "code",
   "execution_count": 10,
   "id": "ba1d75a3",
   "metadata": {},
   "outputs": [],
   "source": [
    "\"\"\"\n",
    "Transmission Line Thru\n",
    "\"\"\"\n",
    "if thru:\n",
    "    straighta_tline_options = Dict( pin_inputs = Dict(  start_pin=Dict(component='Port1_Termination', pin='open'),\n",
    "                                                        end_pin=Dict(component='Port2_Termination', pin='open')))\n",
    "    straighta_tline = straight_path.RouteStraight(design,'straighta_tline', options=straighta_tline_options)\n",
    "else:\n",
    "#     straighta_tline_options = Dict( pin_inputs = Dict(  start_pin=Dict(component='Port1_Termination', pin='open'),\n",
    "#                                                         end_pin=Dict(component='CouplingTee', pin='prime_start')))\n",
    "#     straighta_tline = straight_path.RouteStraight(design,'straighta_tline', options=straighta_tline_options)\n",
    "\n",
    "#     straightb_tline_options = Dict( pin_inputs = Dict(  start_pin=Dict(component='CouplingTee', pin='prime_end'),\n",
    "#                                                         end_pin=Dict(component='Port2_Termination', pin='open')))\n",
    "#     straightb_tline = straight_path.RouteStraight(design,'straightb_tline', options=straightb_tline_options)\n",
    "    straighta_tline_options = Dict( pin_inputs = Dict(  start_pin=Dict(component='Port1_Termination', pin='open'),\n",
    "                                                        end_pin=Dict(component='CouplingTee', pin='prime_start')),\n",
    "                                                        lead=Dict(start_straight='.25cm',end_straight='.35cm'),\n",
    "                                                        meander=Dict(spacing=\".45mm\"),\n",
    "                                                        fillet = '105.00um', total_length = '2.3cm')\n",
    "    straighta_tline = meandered.RouteMeander(design,'straighta_tline', options=straighta_tline_options)\n",
    "\n",
    "    straightb_tline_options = Dict( pin_inputs = Dict(  start_pin=Dict(component='CouplingTee', pin='prime_end'),\n",
    "                                                        end_pin=Dict(component='Port2_Termination', pin='open')),\n",
    "                                                        lead=Dict(start_straight='.35cm',end_straight='.25cm'),\n",
    "                                                        meander=Dict(spacing=\".45mm\"),\n",
    "                                                        fillet = '105.00um', total_length = '2.3cm')\n",
    "    straightb_tline = meandered.RouteMeander(design,'straightb_tline', options=straightb_tline_options)"
   ]
  },
  {
   "cell_type": "code",
   "execution_count": 11,
   "id": "0bd4af1c",
   "metadata": {},
   "outputs": [
    {
     "data": {
      "text/plain": [
       "{'pin_inputs': {'start_pin': {'component': '', 'pin': ''},\n",
       "  'end_pin': {'component': '', 'pin': ''}},\n",
       " 'fillet': '0',\n",
       " 'lead': {'start_straight': '0mm',\n",
       "  'end_straight': '0mm',\n",
       "  'start_jogged_extension': '',\n",
       "  'end_jogged_extension': ''},\n",
       " 'total_length': '7mm',\n",
       " 'chip': 'main',\n",
       " 'layer': '1',\n",
       " 'trace_width': 'cpw_width',\n",
       " 'meander': {'spacing': '200um', 'asymmetry': '0um'},\n",
       " 'snap': 'true',\n",
       " 'prevent_short_edges': 'true',\n",
       " 'hfss_wire_bonds': False,\n",
       " 'q3d_wire_bonds': False}"
      ]
     },
     "execution_count": 11,
     "metadata": {},
     "output_type": "execute_result"
    }
   ],
   "source": [
    "meandered.RouteMeander.get_template_options(design)"
   ]
  },
  {
   "cell_type": "code",
   "execution_count": 12,
   "id": "02282ebb",
   "metadata": {},
   "outputs": [],
   "source": [
    "if not thru:\n",
    "    \"\"\"\n",
    "    Resonator Grounding\n",
    "    \"\"\"\n",
    "    res_short_options = Dict(pos_x='1.25mm',pos_y='-4mm',orientation='-90')\n",
    "    res_short = ShortToGround(design,'Res_short',options=res_short_options)\n",
    "    \"\"\"\n",
    "    Resonator A\n",
    "    \"\"\"\n",
    "    meanderA_options = Dict(\n",
    "        pin_inputs = Dict(  start_pin=Dict(component='CouplingTee', pin='second_end'),\n",
    "                            end_pin=Dict(component='Res_short', pin='short')), \n",
    "                            lead = Dict(start_straight='800um',end_straight='100um'),\n",
    "                            meander=Dict(spacing=\".45mm\"),\n",
    "                            total_length = '2.1cm', fillet = '99um', width=design.variables['cpw_width'])\n",
    "    MeanderA = meandered.RouteMeander(design,'meanderA', options=meanderA_options)"
   ]
  },
  {
   "cell_type": "code",
   "execution_count": 13,
   "id": "429ba933",
   "metadata": {},
   "outputs": [],
   "source": [
    "if not thru and bias:\n",
    "    \"\"\"\n",
    "    DC bias Tee\n",
    "    \"\"\"\n",
    "    dc_tee_options = Dict(  pos_x='2.625cm', pos_y='-1.mm',mirror=False,t_length='200um',\n",
    "                            prime_width=design.variables['cpw_width'], orientation='-90', \n",
    "                            second_width=design.variables['cpw_width'] )\n",
    "    dc_tee=LineTee(design, \"DcTee\",options=dc_tee_options)\n",
    "    \"\"\"\n",
    "    DC Bias Pad\n",
    "    \"\"\"\n",
    "    port_3_options = Dict(pos_x='0mm',pos_y='-1cm',orientation='0') # control\n",
    "    port_3_termination = LaunchpadWirebondCoupled(design,'Port3_Termination',options=port_3_options)\n",
    "    \"\"\"\n",
    "    DC Bias Line\n",
    "    \"\"\"\n",
    "    control_line_options = Dict( pin_inputs=Dict(   start_pin=Dict(component='DcTee', pin='second_end'),\n",
    "                                                    end_pin=Dict(component='Port3_Termination', pin='tie')),\n",
    "                                                    total_length = '1mm', fillet = '105.00um',\n",
    "                                                    width=design.variables['cpw_width'],)\n",
    "    ControlLine=framed_path.RouteFramed(design,'controlline',options=control_line_options)"
   ]
  },
  {
   "cell_type": "code",
   "execution_count": 14,
   "id": "e7ca1604",
   "metadata": {},
   "outputs": [],
   "source": [
    "gui.rebuild()\n",
    "gui.zoom_on_components([port_1_termination.name, port_2_termination.name])"
   ]
  },
  {
   "cell_type": "code",
   "execution_count": 15,
   "id": "c807928b",
   "metadata": {},
   "outputs": [
    {
     "data": {
      "image/png": "[encoded data removed]",
      "text/plain": [
       "<IPython.core.display.Image object>"
      ]
     },
     "metadata": {
      "image/png": {
       "width": 500
      }
     },
     "output_type": "display_data"
    }
   ],
   "source": [
    "gui.figure.savefig('tline.png')\n",
    "from IPython.display import Image, display\n",
    "_disp_ops = dict(width=500)\n",
    "display(Image('tline.png', **_disp_ops))"
   ]
  },
  {
   "cell_type": "markdown",
   "id": "8ef90c96",
   "metadata": {},
   "source": [
    "# GDS"
   ]
  },
  {
   "cell_type": "code",
   "execution_count": 16,
   "id": "787602a9",
   "metadata": {},
   "outputs": [],
   "source": [
    "a_gds = design.renderers.gds\n",
    "a_gds.options['short_segments_to_not_fillet']=False\n",
    "a_gds.options['check_short_segments_by_scaling_fillet']=1.0\n",
    "a_gds.options['bounding_box_scale_y']=1.8\n",
    "#a_gds.get_template_options(design)"
   ]
  },
  {
   "cell_type": "code",
   "execution_count": 17,
   "id": "5cd04699",
   "metadata": {
    "scrolled": true
   },
   "outputs": [
    {
     "name": "stderr",
     "output_type": "stream",
     "text": [
      "05:00PM 31s WARNING [_import_junctions_to_one_cell]: Not able to find file:\"../resources/Fake_Junctions.GDS\".  Not used to replace junction. Checked directory:\"C:\\Users\\Undergrad\\Downloads\\qiskit-design-main (2)\\resources\".\n",
      "05:00PM 31s WARNING [_cheese_buffer_maker]: The bounding box for no-cheese is outside of chip size.\n",
      "Bounding box for chip is (-10.0, -7.5, 10.0, 7.5).\n",
      "Bounding box with no_cheese buffer is (-10.031, -4.117599579, 10.031, 4.117599579).\n"
     ]
    },
    {
     "data": {
      "text/plain": [
       "1"
      ]
     },
     "execution_count": 17,
     "metadata": {},
     "output_type": "execute_result"
    }
   ],
   "source": [
    "a_gds.export_to_gds(\"single-res.gds\")"
   ]
  },
  {
   "cell_type": "markdown",
   "id": "998bcd19",
   "metadata": {},
   "source": [
    "# Analysis"
   ]
  },
  {
   "cell_type": "code",
   "execution_count": null,
   "id": "8d80753b",
   "metadata": {},
   "outputs": [],
   "source": [
    "from qiskit_metal.analyses.simulation import ScatteringImpedanceSim\n",
    "em1 = ScatteringImpedanceSim(design, \"hfss\")\n",
    "hfss = em1.renderer"
   ]
  },
  {
   "cell_type": "code",
   "execution_count": null,
   "id": "f1cf6a03",
   "metadata": {},
   "outputs": [],
   "source": [
    "hfss.start()"
   ]
  },
  {
   "cell_type": "code",
   "execution_count": null,
   "id": "1b4f41e0",
   "metadata": {},
   "outputs": [],
   "source": [
    "hfss.activate_ansys_design(\"Tline-Resonator2\",\"drivenmodal\")"
   ]
  },
  {
   "cell_type": "code",
   "execution_count": null,
   "id": "ed7b18e2",
   "metadata": {},
   "outputs": [],
   "source": [
    "hfss.options['x_buffer_width_mm'] = 0.0\n",
    "hfss.options['y_buffer_width_mm'] = 1.5"
   ]
  },
  {
   "cell_type": "code",
   "execution_count": null,
   "id": "48442fe4",
   "metadata": {},
   "outputs": [],
   "source": [
    "hfss.clean_active_design()"
   ]
  },
  {
   "cell_type": "code",
   "execution_count": null,
   "id": "92b2bdc7",
   "metadata": {},
   "outputs": [],
   "source": [
    "# example: update single setting\n",
    "em1.setup.max_passes = 12\n",
    "em1.setup.sweep_setup.stop_ghz = .1\n",
    "em1.setup.sweep_setup.stop_ghz = 8\n",
    "# example: update multiple settings\n",
    "em1.setup_update(max_delta_s = 0.15, freq_ghz = 5.2)"
   ]
  },
  {
   "cell_type": "code",
   "execution_count": null,
   "id": "e9f3e0dc",
   "metadata": {},
   "outputs": [],
   "source": [
    "em1.run(name=\"SingleTM\", components=['straighta_tline','straightb_tline',\"CouplingTee\",\"meanderA\"], open_terminations=[], \n",
    "        port_list=[('Port1_Termination', 'open', 50), ('Port2_Termination', 'open', 50)],\n",
    "        jj_to_port=[], box_plus_buffer = True)"
   ]
  },
  {
   "cell_type": "code",
   "execution_count": null,
   "id": "e8f42136",
   "metadata": {},
   "outputs": [],
   "source": [
    "em1.start()\n",
    "em1.renderer"
   ]
  },
  {
   "cell_type": "code",
   "execution_count": null,
   "id": "7edd4cbd",
   "metadata": {},
   "outputs": [],
   "source": [
    "hfss.analyze_sweep('Sweep', 'Setup')"
   ]
  },
  {
   "cell_type": "code",
   "execution_count": null,
   "id": "2f9fe9d4",
   "metadata": {},
   "outputs": [],
   "source": [
    "hfss.plot_params(['S11', 'S21'])"
   ]
  }
 ],
 "metadata": {
  "kernelspec": {
   "display_name": "qmetal2nb",
   "language": "python",
   "name": "qmetal2nb"
  },
  "language_info": {
   "codemirror_mode": {
    "name": "ipython",
    "version": 3
   },
   "file_extension": ".py",
   "mimetype": "text/x-python",
   "name": "python",
   "nbconvert_exporter": "python",
   "pygments_lexer": "ipython3",
   "version": "3.9.7"
  }
 },
 "nbformat": 4,
 "nbformat_minor": 5
}
